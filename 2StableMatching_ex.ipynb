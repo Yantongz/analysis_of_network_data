{
 "cells": [
  {
   "cell_type": "markdown",
   "metadata": {},
   "source": [
    "# Stable Marriage\n",
    "In this exercise, we will implement the stable marriage algorithm using randomly generated preference list. We will import the file matching.py as follows and use the matchmaker function. The input to this function is composed of two dictionaries. The first dictionary, called 'residentprefers', has each key corresponding to each resident and the value corresponding to the hospital preference list of the residents. The second dictionary, called 'hospitalprefers',is vice versa. For example, if there are 2 residents and 3 hospitals, then a possible input is: residentprefers = {1:[2,1,3], 2: [1,2,3]}, hospitalprefers = {1:[1,2], 2:[1,2], 3:[2,1]}. Note that the number of residents need not be the same as the number of hospitals. Let us now find a stable matching for this example."
   ]
  },
  {
   "cell_type": "code",
   "execution_count": 1,
   "metadata": {
    "collapsed": true
   },
   "outputs": [],
   "source": [
    "import matching\n",
    "import numpy as np"
   ]
  },
  {
   "cell_type": "code",
   "execution_count": 2,
   "metadata": {},
   "outputs": [
    {
     "name": "stdout",
     "output_type": "stream",
     "text": [
      "{2: 1, 1: 2}\n"
     ]
    }
   ],
   "source": [
    "residentprefers = {1:[2,1,3], 2: [1,2,3]}\n",
    "hospitalprefers = {1:[1,2], 2:[1,2], 3:[2,1]}\n",
    "\n",
    "engaged = matching.matchmaker(residentprefers,hospitalprefers)\n",
    "print(engaged)"
   ]
  },
  {
   "cell_type": "markdown",
   "metadata": {},
   "source": [
    "As we can see, the stable matching results in resident 1 paired with hospital 2, resident 2 paired with hospital 1, and hospital 3 is unpaired.\n",
    "\n",
    "Let us now analyze the satisfaction of the matching, which will be defined as follows. Let $n_1$ and $n_2$ be the number of residents and hospitals, respectively. For a given matching, for each resident $i = 1,2,\\dots, n_1$, let $m(i)$ be the hospital that $i$ is matched to. Let $x(i)$ be the position in the preference list of resudent $i$ that $m(i)$ appears in. In the previous example, $m(1) = 2$ and $x(1) = 1$. Similarly $m(2) = 1$ and $x(1) = 1$. Similarly, for the same matching, for each hospital $j = 1,2,\\dots,n_2$, let $y(j)$ be the position of hospital $j$'s matched resident in $j$'s preference list. In the example, $y(1) = 3$, $y(2) = 1$ and $y(3)$ is not defined. Using this, for a given matching, we define the average satisfaction of all the residents to be: $\\sum_{i=1}^{n_1} \\dfrac{x_i}{n_1^2}$. Correspondingly, the average satisfaction of all the hospitals is defined to be: $\\sum_{j=1}^{n_2} \\dfrac{y_j}{n_2^2}$. Note that if $y(j)$ is not defined for a certain $j$, we set $y(j) = 0$."
   ]
  },
  {
   "cell_type": "markdown",
   "metadata": {},
   "source": [
    "## Q1. Generate random instances and analyze the satsifaction of the matching\n",
    "\n",
    "First, write a function that takes the preference lists and the matching as inputs and returns the satisfaction values."
   ]
  },
  {
   "cell_type": "code",
   "execution_count": 3,
   "metadata": {},
   "outputs": [
    {
     "name": "stdout",
     "output_type": "stream",
     "text": [
      "(0.5, 0.3333333333333333)\n"
     ]
    }
   ],
   "source": [
    "def satisfaction(residentprefers,hospitalprefers,engaged):\n",
    "    #------------ Your code here ----------- #\n",
    "    \n",
    "    res_length = len(residentprefers)\n",
    "    hos_length = len(hospitalprefers)\n",
    "\n",
    "    xi = []\n",
    "#   for k, v in residentprefers.items():   \n",
    "#       hos = [ k2 for k2, v2 in engaged.items() if v2 == k ]\n",
    "#       xi.append( list(v).index(np.asarray(hos))+1 )\n",
    "    \n",
    "    for k, v in engaged.items():\n",
    "        try:\n",
    "            xi.append( list((residentprefers[k])).index(v) +1)\n",
    "        except ValueError:\n",
    "            xi.append( 0)\n",
    "            \n",
    "    yi = []\n",
    "    for k3, v3 in engaged.items():\n",
    "        try:\n",
    "            yi.append( list((hospitalprefers[k3])).index(v3) +1)\n",
    "        except ValueError:\n",
    "            yi.append( 0)\n",
    "            \n",
    "    res_stf = sum(xi)/(res_length**2)\n",
    "    hos_stf = sum(yi)/(hos_length**2)\n",
    "\n",
    "    return (res_stf, hos_stf)\n",
    "    #---------------------------------- #\n",
    "print(satisfaction(residentprefers,hospitalprefers,engaged))"
   ]
  },
  {
   "cell_type": "markdown",
   "metadata": {},
   "source": [
    "Next, write a function that takes as inputs $n_1$ and $n_2$ and returns a random permutation of preference lists for residents and hospitals. You may use the np.random.permutation() function."
   ]
  },
  {
   "cell_type": "code",
   "execution_count": 4,
   "metadata": {},
   "outputs": [
    {
     "name": "stdout",
     "output_type": "stream",
     "text": [
      "({0: [2, 1, 0], 1: [2, 1, 0], 2: [1, 0, 2]}, {0: [1, 0, 2], 1: [1, 0, 2], 2: [0, 2, 1]})\n"
     ]
    }
   ],
   "source": [
    "def generate_random_instance(n1,n2):\n",
    "    #------------- your code here -----------#\n",
    "    \n",
    "    res_pre = {}\n",
    "    hos_pre = {}\n",
    "    \n",
    "    for ii in range(n1):\n",
    "        res_pre[ii] = np.random.permutation(range(n1)).tolist()\n",
    "        \n",
    "    for jj in range(n2):\n",
    "        hos_pre[jj] = np.random.permutation(range(n2)).tolist()\n",
    "    \n",
    "    return (res_pre, hos_pre)\n",
    "    \n",
    "    #------------- your code here -----------#\n",
    "print(generate_random_instance(3,3))"
   ]
  },
  {
   "cell_type": "markdown",
   "metadata": {},
   "source": [
    "Now, we would like to analyze how the resident and hospital satisfactions depend on $n_1$ and $n_2$. To do this, we first set $n_1=n_2=n$ and study three different values for $n \\in \\{10,50,100\\}$. Then, create $100$ random instances of preference lists and compute the average satisfaction values over all the instances. Plot two graphs, one for the average resident satisfaction and the other, for the average hospital satisfaction (the x-axis being $n$ in both the plots)."
   ]
  },
  {
   "cell_type": "code",
   "execution_count": 16,
   "metadata": {},
   "outputs": [
    {
     "data": {
      "image/png": "[encoded data removed]",
      "text/plain": [
       "<matplotlib.figure.Figure at 0x292a52c4860>"
      ]
     },
     "metadata": {},
     "output_type": "display_data"
    },
    {
     "data": {
      "image/png": "[encoded data removed]",
      "text/plain": [
       "<matplotlib.figure.Figure at 0x292a50d6ba8>"
      ]
     },
     "metadata": {},
     "output_type": "display_data"
    },
    {
     "data": {
      "image/png": "[encoded data removed]",
      "text/plain": [
       "<matplotlib.figure.Figure at 0x292a52a4d30>"
      ]
     },
     "metadata": {},
     "output_type": "display_data"
    }
   ],
   "source": [
    "import matplotlib.pyplot as plt\n",
    "\n",
    "def match_compute_plot(n):\n",
    "    #----------- Your code here -----------#\n",
    "    sum_res =0\n",
    "    sum_hos = 0\n",
    "    \n",
    "    for ins in range(100):\n",
    "        \n",
    "        ran_res, ran_hos = generate_random_instance(n,n)\n",
    "        result = matching.matchmaker(ran_res, ran_hos)\n",
    "        sac_res, sac_hos = satisfaction(ran_res, ran_hos, result)\n",
    "        \n",
    "        sum_res = sum_res + sac_res\n",
    "        sum_hos = sum_hos + sac_hos\n",
    "        \n",
    "    avg_res = sum_res/100\n",
    "    avg_hos = sum_hos/100\n",
    "    \n",
    "    plt.plot(n, avg_res, 'g^', n, avg_hos, 'bs')\n",
    "    plt.show()\n",
    "    #--------------------------------------#\n",
    "match_compute_plot(10)\n",
    "match_compute_plot(50)\n",
    "match_compute_plot(100)"
   ]
  },
  {
   "cell_type": "markdown",
   "metadata": {},
   "source": [
    "## Q2. Generate and analyze satisfactions for different $n_1$ and $n_2$\n",
    "\n",
    "Now, we set $n_1 = n$ and $n_2 = n+1$ and repeat Q1 (plot a pair of graphs for resident and hospital satisfactions with x axis being $n \\in \\{10,50,100\\}$)."
   ]
  },
  {
   "cell_type": "code",
   "execution_count": 12,
   "metadata": {
    "scrolled": false
   },
   "outputs": [
    {
     "data": {
      "image/png": "[encoded data removed]",
      "text/plain": [
       "<matplotlib.figure.Figure at 0x292a5308780>"
      ]
     },
     "metadata": {},
     "output_type": "display_data"
    },
    {
     "data": {
      "image/png": "[encoded data removed]",
      "text/plain": [
       "<matplotlib.figure.Figure at 0x292a5479d30>"
      ]
     },
     "metadata": {},
     "output_type": "display_data"
    },
    {
     "data": {
      "image/png": "[encoded data removed]",
      "text/plain": [
       "<matplotlib.figure.Figure at 0x292a5537898>"
      ]
     },
     "metadata": {},
     "output_type": "display_data"
    }
   ],
   "source": [
    "def match_compute_plot(n):\n",
    "    #----------- Your code here -----------#\n",
    "    sum_res =0\n",
    "    sum_hos = 0\n",
    "    \n",
    "    for ins in range(100):\n",
    "        \n",
    "        ran_res, ran_hos = generate_random_instance(n,n+1)\n",
    "        result = matching.matchmaker(ran_res, ran_hos)\n",
    "        sac_res, sac_hos = satisfaction(ran_res, ran_hos, result)\n",
    "        \n",
    "        sum_res = sum_res + sac_res\n",
    "        sum_hos = sum_hos + sac_hos\n",
    "        \n",
    "    avg_res = sum_res/100\n",
    "    avg_hos = sum_hos/100\n",
    "    \n",
    "    plt.plot(n, avg_res, 'g^', n, avg_hos, 'bs')\n",
    "    plt.show()\n",
    "    #--------------------------------------#\n",
    "match_compute_plot(10)\n",
    "match_compute_plot(50)\n",
    "match_compute_plot(100)"
   ]
  },
  {
   "cell_type": "markdown",
   "metadata": {},
   "source": [
    "Now, we set $n_1 = n$ and $n_2 \\in n+2$ and repeat Q1 (plot a pair of graphs for resident and hospital satisfactions with x axis being $n \\in \\{10,50,100\\}$)."
   ]
  },
  {
   "cell_type": "code",
   "execution_count": 8,
   "metadata": {
    "scrolled": false
   },
   "outputs": [
    {
     "data": {
      "image/png": "[encoded data removed]",
      "text/plain": [
       "<matplotlib.figure.Figure at 0x292a5083898>"
      ]
     },
     "metadata": {},
     "output_type": "display_data"
    },
    {
     "data": {
      "image/png": "[encoded data removed]",
      "text/plain": [
       "<matplotlib.figure.Figure at 0x292a3072b70>"
      ]
     },
     "metadata": {},
     "output_type": "display_data"
    },
    {
     "data": {
      "image/png": "[encoded data removed]",
      "text/plain": [
       "<matplotlib.figure.Figure at 0x292a52887b8>"
      ]
     },
     "metadata": {},
     "output_type": "display_data"
    }
   ],
   "source": [
    "def match_compute_plot(n):\n",
    "    #----------- Your code here -----------#\n",
    "    sum_res =0\n",
    "    sum_hos = 0\n",
    "    \n",
    "    for ins in range(100):\n",
    "        \n",
    "        ran_res, ran_hos = generate_random_instance(n,n+2)\n",
    "        result = matching.matchmaker(ran_res, ran_hos)\n",
    "        sac_res, sac_hos = satisfaction(ran_res, ran_hos, result)\n",
    "        \n",
    "        sum_res = sum_res + sac_res\n",
    "        sum_hos = sum_hos + sac_hos\n",
    "        \n",
    "    avg_res = sum_res/100\n",
    "    avg_hos = sum_hos/100\n",
    "    \n",
    "    plt.plot(n, avg_res, 'g^', n, avg_hos, 'bs')\n",
    "    plt.show()\n",
    "    \n",
    "    #--------------------------------------#\n",
    "match_compute_plot(10)\n",
    "match_compute_plot(50)\n",
    "match_compute_plot(100)"
   ]
  },
  {
   "cell_type": "markdown",
   "metadata": {},
   "source": [
    "Now, we set $n_1 = n$ and $n_2 \\in 2n$ and repeat Q1 (plot a pair of graphs for resident and hospital satisfactions with x axis being $n \\in \\{10,50,100\\}$)."
   ]
  },
  {
   "cell_type": "code",
   "execution_count": 10,
   "metadata": {
    "scrolled": false
   },
   "outputs": [
    {
     "data": {
      "image/png": "[encoded data removed]",
      "text/plain": [
       "<matplotlib.figure.Figure at 0x292a5139198>"
      ]
     },
     "metadata": {},
     "output_type": "display_data"
    },
    {
     "data": {
      "image/png": "[encoded data removed]",
      "text/plain": [
       "<matplotlib.figure.Figure at 0x292a5083940>"
      ]
     },
     "metadata": {},
     "output_type": "display_data"
    },
    {
     "data": {
      "image/png": "[encoded data removed]",
      "text/plain": [
       "<matplotlib.figure.Figure at 0x292a5532cf8>"
      ]
     },
     "metadata": {},
     "output_type": "display_data"
    }
   ],
   "source": [
    "def match_compute_plot(n):\n",
    "    #----------- Your code here -----------#\n",
    "    sum_res =0\n",
    "    sum_hos = 0\n",
    "    \n",
    "    for ins in range(100):\n",
    "        \n",
    "        ran_res, ran_hos = generate_random_instance(n,2*n)\n",
    "        result = matching.matchmaker(ran_res, ran_hos)\n",
    "        sac_res, sac_hos = satisfaction(ran_res, ran_hos, result)\n",
    "        \n",
    "        sum_res = sum_res + sac_res\n",
    "        sum_hos = sum_hos + sac_hos\n",
    "        \n",
    "    avg_res = sum_res/100\n",
    "    avg_hos = sum_hos/100\n",
    "    \n",
    "    plt.plot(n, avg_res, 'g^', n, avg_hos, 'bs')\n",
    "    plt.show()\n",
    "    #--------------------------------------#\n",
    "match_compute_plot(10)\n",
    "match_compute_plot(50)\n",
    "match_compute_plot(100)"
   ]
  },
  {
   "cell_type": "code",
   "execution_count": null,
   "metadata": {
    "collapsed": true
   },
   "outputs": [],
   "source": []
  }
 ],
 "metadata": {
  "kernelspec": {
   "display_name": "Python 3",
   "language": "python",
   "name": "python3"
  },
  "language_info": {
   "codemirror_mode": {
    "name": "ipython",
    "version": 3
   },
   "file_extension": ".py",
   "mimetype": "text/x-python",
   "name": "python",
   "nbconvert_exporter": "python",
   "pygments_lexer": "ipython3",
   "version": "3.6.1"
  },
  "widgets": {
   "application/vnd.jupyter.widget-state+json": {
    "state": {},
    "version_major": 1,
    "version_minor": 0
   }
  }
 },
 "nbformat": 4,
 "nbformat_minor": 2
}
